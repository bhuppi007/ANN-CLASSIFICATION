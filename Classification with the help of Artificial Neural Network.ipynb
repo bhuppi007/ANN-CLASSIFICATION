{
 "cells": [
  {
   "cell_type": "code",
   "execution_count": 1,
   "id": "a7c7dd52",
   "metadata": {},
   "outputs": [],
   "source": [
    "# importing libraries"
   ]
  },
  {
   "cell_type": "code",
   "execution_count": 59,
   "id": "02703f31",
   "metadata": {},
   "outputs": [],
   "source": [
    "import numpy as np\n",
    "import pandas as pd\n",
    "from sklearn.model_selection import train_test_split\n",
    "from sklearn.preprocessing import MinMaxScaler\n",
    "from tensorflow.keras.models import Sequential\n",
    "from tensorflow.keras.layers import Dense, Dropout\n",
    "from sklearn.metrics import accuracy_score"
   ]
  },
  {
   "cell_type": "code",
   "execution_count": 25,
   "id": "6fafaa21",
   "metadata": {},
   "outputs": [],
   "source": [
    "df = pd.read_csv(\"D:\\\\Datasets\\\\suv.csv\")"
   ]
  },
  {
   "cell_type": "code",
   "execution_count": 26,
   "id": "f08789e9",
   "metadata": {},
   "outputs": [
    {
     "data": {
      "text/html": [
       "<div>\n",
       "<style scoped>\n",
       "    .dataframe tbody tr th:only-of-type {\n",
       "        vertical-align: middle;\n",
       "    }\n",
       "\n",
       "    .dataframe tbody tr th {\n",
       "        vertical-align: top;\n",
       "    }\n",
       "\n",
       "    .dataframe thead th {\n",
       "        text-align: right;\n",
       "    }\n",
       "</style>\n",
       "<table border=\"1\" class=\"dataframe\">\n",
       "  <thead>\n",
       "    <tr style=\"text-align: right;\">\n",
       "      <th></th>\n",
       "      <th>User ID</th>\n",
       "      <th>Gender</th>\n",
       "      <th>Age</th>\n",
       "      <th>EstimatedSalary</th>\n",
       "      <th>Purchased</th>\n",
       "    </tr>\n",
       "  </thead>\n",
       "  <tbody>\n",
       "    <tr>\n",
       "      <th>0</th>\n",
       "      <td>15624510</td>\n",
       "      <td>Male</td>\n",
       "      <td>19</td>\n",
       "      <td>19000</td>\n",
       "      <td>0</td>\n",
       "    </tr>\n",
       "    <tr>\n",
       "      <th>1</th>\n",
       "      <td>15810944</td>\n",
       "      <td>Male</td>\n",
       "      <td>35</td>\n",
       "      <td>20000</td>\n",
       "      <td>0</td>\n",
       "    </tr>\n",
       "    <tr>\n",
       "      <th>2</th>\n",
       "      <td>15668575</td>\n",
       "      <td>Female</td>\n",
       "      <td>26</td>\n",
       "      <td>43000</td>\n",
       "      <td>0</td>\n",
       "    </tr>\n",
       "    <tr>\n",
       "      <th>3</th>\n",
       "      <td>15603246</td>\n",
       "      <td>Female</td>\n",
       "      <td>27</td>\n",
       "      <td>57000</td>\n",
       "      <td>0</td>\n",
       "    </tr>\n",
       "    <tr>\n",
       "      <th>4</th>\n",
       "      <td>15804002</td>\n",
       "      <td>Male</td>\n",
       "      <td>19</td>\n",
       "      <td>76000</td>\n",
       "      <td>0</td>\n",
       "    </tr>\n",
       "  </tbody>\n",
       "</table>\n",
       "</div>"
      ],
      "text/plain": [
       "    User ID  Gender  Age  EstimatedSalary  Purchased\n",
       "0  15624510    Male   19            19000          0\n",
       "1  15810944    Male   35            20000          0\n",
       "2  15668575  Female   26            43000          0\n",
       "3  15603246  Female   27            57000          0\n",
       "4  15804002    Male   19            76000          0"
      ]
     },
     "execution_count": 26,
     "metadata": {},
     "output_type": "execute_result"
    }
   ],
   "source": [
    "df.head()"
   ]
  },
  {
   "cell_type": "code",
   "execution_count": 27,
   "id": "799c3442",
   "metadata": {},
   "outputs": [
    {
     "data": {
      "text/plain": [
       "User ID            0\n",
       "Gender             0\n",
       "Age                0\n",
       "EstimatedSalary    0\n",
       "Purchased          0\n",
       "dtype: int64"
      ]
     },
     "execution_count": 27,
     "metadata": {},
     "output_type": "execute_result"
    }
   ],
   "source": [
    "df.isnull().sum()"
   ]
  },
  {
   "cell_type": "code",
   "execution_count": 28,
   "id": "0594615a",
   "metadata": {},
   "outputs": [
    {
     "data": {
      "text/html": [
       "<div>\n",
       "<style scoped>\n",
       "    .dataframe tbody tr th:only-of-type {\n",
       "        vertical-align: middle;\n",
       "    }\n",
       "\n",
       "    .dataframe tbody tr th {\n",
       "        vertical-align: top;\n",
       "    }\n",
       "\n",
       "    .dataframe thead th {\n",
       "        text-align: right;\n",
       "    }\n",
       "</style>\n",
       "<table border=\"1\" class=\"dataframe\">\n",
       "  <thead>\n",
       "    <tr style=\"text-align: right;\">\n",
       "      <th></th>\n",
       "      <th>User ID</th>\n",
       "      <th>Age</th>\n",
       "      <th>EstimatedSalary</th>\n",
       "      <th>Purchased</th>\n",
       "    </tr>\n",
       "  </thead>\n",
       "  <tbody>\n",
       "    <tr>\n",
       "      <th>User ID</th>\n",
       "      <td>100.000000</td>\n",
       "      <td>-0.072110</td>\n",
       "      <td>7.109732</td>\n",
       "      <td>0.712018</td>\n",
       "    </tr>\n",
       "    <tr>\n",
       "      <th>Age</th>\n",
       "      <td>-0.072110</td>\n",
       "      <td>100.000000</td>\n",
       "      <td>15.523802</td>\n",
       "      <td>62.245420</td>\n",
       "    </tr>\n",
       "    <tr>\n",
       "      <th>EstimatedSalary</th>\n",
       "      <td>7.109732</td>\n",
       "      <td>15.523802</td>\n",
       "      <td>100.000000</td>\n",
       "      <td>36.208303</td>\n",
       "    </tr>\n",
       "    <tr>\n",
       "      <th>Purchased</th>\n",
       "      <td>0.712018</td>\n",
       "      <td>62.245420</td>\n",
       "      <td>36.208303</td>\n",
       "      <td>100.000000</td>\n",
       "    </tr>\n",
       "  </tbody>\n",
       "</table>\n",
       "</div>"
      ],
      "text/plain": [
       "                    User ID         Age  EstimatedSalary   Purchased\n",
       "User ID          100.000000   -0.072110         7.109732    0.712018\n",
       "Age               -0.072110  100.000000        15.523802   62.245420\n",
       "EstimatedSalary    7.109732   15.523802       100.000000   36.208303\n",
       "Purchased          0.712018   62.245420        36.208303  100.000000"
      ]
     },
     "execution_count": 28,
     "metadata": {},
     "output_type": "execute_result"
    }
   ],
   "source": [
    "df.corr()*100"
   ]
  },
  {
   "cell_type": "code",
   "execution_count": 47,
   "id": "27762f91",
   "metadata": {},
   "outputs": [
    {
     "data": {
      "text/plain": [
       "0    257\n",
       "1    143\n",
       "Name: Purchased, dtype: int64"
      ]
     },
     "execution_count": 47,
     "metadata": {},
     "output_type": "execute_result"
    }
   ],
   "source": [
    "df[\"Purchased\"].value_counts()\n",
    "# it is not an unbalanced dataset"
   ]
  },
  {
   "cell_type": "code",
   "execution_count": 29,
   "id": "120c8cd1",
   "metadata": {},
   "outputs": [],
   "source": [
    "# since gender is a categorical feature, convert it into one-hot encoding."
   ]
  },
  {
   "cell_type": "code",
   "execution_count": 30,
   "id": "ea7c51ac",
   "metadata": {},
   "outputs": [],
   "source": [
    "gender = pd.get_dummies(df[\"Gender\"], drop_first= True)"
   ]
  },
  {
   "cell_type": "code",
   "execution_count": 31,
   "id": "277e6aaa",
   "metadata": {},
   "outputs": [],
   "source": [
    "df = pd.concat([df, gender], axis = 1)"
   ]
  },
  {
   "cell_type": "code",
   "execution_count": 32,
   "id": "737cc3c5",
   "metadata": {},
   "outputs": [
    {
     "data": {
      "text/html": [
       "<div>\n",
       "<style scoped>\n",
       "    .dataframe tbody tr th:only-of-type {\n",
       "        vertical-align: middle;\n",
       "    }\n",
       "\n",
       "    .dataframe tbody tr th {\n",
       "        vertical-align: top;\n",
       "    }\n",
       "\n",
       "    .dataframe thead th {\n",
       "        text-align: right;\n",
       "    }\n",
       "</style>\n",
       "<table border=\"1\" class=\"dataframe\">\n",
       "  <thead>\n",
       "    <tr style=\"text-align: right;\">\n",
       "      <th></th>\n",
       "      <th>User ID</th>\n",
       "      <th>Gender</th>\n",
       "      <th>Age</th>\n",
       "      <th>EstimatedSalary</th>\n",
       "      <th>Purchased</th>\n",
       "      <th>Male</th>\n",
       "    </tr>\n",
       "  </thead>\n",
       "  <tbody>\n",
       "    <tr>\n",
       "      <th>0</th>\n",
       "      <td>15624510</td>\n",
       "      <td>Male</td>\n",
       "      <td>19</td>\n",
       "      <td>19000</td>\n",
       "      <td>0</td>\n",
       "      <td>1</td>\n",
       "    </tr>\n",
       "    <tr>\n",
       "      <th>1</th>\n",
       "      <td>15810944</td>\n",
       "      <td>Male</td>\n",
       "      <td>35</td>\n",
       "      <td>20000</td>\n",
       "      <td>0</td>\n",
       "      <td>1</td>\n",
       "    </tr>\n",
       "    <tr>\n",
       "      <th>2</th>\n",
       "      <td>15668575</td>\n",
       "      <td>Female</td>\n",
       "      <td>26</td>\n",
       "      <td>43000</td>\n",
       "      <td>0</td>\n",
       "      <td>0</td>\n",
       "    </tr>\n",
       "    <tr>\n",
       "      <th>3</th>\n",
       "      <td>15603246</td>\n",
       "      <td>Female</td>\n",
       "      <td>27</td>\n",
       "      <td>57000</td>\n",
       "      <td>0</td>\n",
       "      <td>0</td>\n",
       "    </tr>\n",
       "    <tr>\n",
       "      <th>4</th>\n",
       "      <td>15804002</td>\n",
       "      <td>Male</td>\n",
       "      <td>19</td>\n",
       "      <td>76000</td>\n",
       "      <td>0</td>\n",
       "      <td>1</td>\n",
       "    </tr>\n",
       "  </tbody>\n",
       "</table>\n",
       "</div>"
      ],
      "text/plain": [
       "    User ID  Gender  Age  EstimatedSalary  Purchased  Male\n",
       "0  15624510    Male   19            19000          0     1\n",
       "1  15810944    Male   35            20000          0     1\n",
       "2  15668575  Female   26            43000          0     0\n",
       "3  15603246  Female   27            57000          0     0\n",
       "4  15804002    Male   19            76000          0     1"
      ]
     },
     "execution_count": 32,
     "metadata": {},
     "output_type": "execute_result"
    }
   ],
   "source": [
    "df.head()"
   ]
  },
  {
   "cell_type": "code",
   "execution_count": 34,
   "id": "55d8b405",
   "metadata": {},
   "outputs": [],
   "source": [
    "df.drop(\"Gender\", axis = 1, inplace= True)"
   ]
  },
  {
   "cell_type": "code",
   "execution_count": 35,
   "id": "641f6ea0",
   "metadata": {},
   "outputs": [
    {
     "data": {
      "text/html": [
       "<div>\n",
       "<style scoped>\n",
       "    .dataframe tbody tr th:only-of-type {\n",
       "        vertical-align: middle;\n",
       "    }\n",
       "\n",
       "    .dataframe tbody tr th {\n",
       "        vertical-align: top;\n",
       "    }\n",
       "\n",
       "    .dataframe thead th {\n",
       "        text-align: right;\n",
       "    }\n",
       "</style>\n",
       "<table border=\"1\" class=\"dataframe\">\n",
       "  <thead>\n",
       "    <tr style=\"text-align: right;\">\n",
       "      <th></th>\n",
       "      <th>User ID</th>\n",
       "      <th>Age</th>\n",
       "      <th>EstimatedSalary</th>\n",
       "      <th>Purchased</th>\n",
       "      <th>Male</th>\n",
       "    </tr>\n",
       "  </thead>\n",
       "  <tbody>\n",
       "    <tr>\n",
       "      <th>0</th>\n",
       "      <td>15624510</td>\n",
       "      <td>19</td>\n",
       "      <td>19000</td>\n",
       "      <td>0</td>\n",
       "      <td>1</td>\n",
       "    </tr>\n",
       "    <tr>\n",
       "      <th>1</th>\n",
       "      <td>15810944</td>\n",
       "      <td>35</td>\n",
       "      <td>20000</td>\n",
       "      <td>0</td>\n",
       "      <td>1</td>\n",
       "    </tr>\n",
       "    <tr>\n",
       "      <th>2</th>\n",
       "      <td>15668575</td>\n",
       "      <td>26</td>\n",
       "      <td>43000</td>\n",
       "      <td>0</td>\n",
       "      <td>0</td>\n",
       "    </tr>\n",
       "    <tr>\n",
       "      <th>3</th>\n",
       "      <td>15603246</td>\n",
       "      <td>27</td>\n",
       "      <td>57000</td>\n",
       "      <td>0</td>\n",
       "      <td>0</td>\n",
       "    </tr>\n",
       "    <tr>\n",
       "      <th>4</th>\n",
       "      <td>15804002</td>\n",
       "      <td>19</td>\n",
       "      <td>76000</td>\n",
       "      <td>0</td>\n",
       "      <td>1</td>\n",
       "    </tr>\n",
       "  </tbody>\n",
       "</table>\n",
       "</div>"
      ],
      "text/plain": [
       "    User ID  Age  EstimatedSalary  Purchased  Male\n",
       "0  15624510   19            19000          0     1\n",
       "1  15810944   35            20000          0     1\n",
       "2  15668575   26            43000          0     0\n",
       "3  15603246   27            57000          0     0\n",
       "4  15804002   19            76000          0     1"
      ]
     },
     "execution_count": 35,
     "metadata": {},
     "output_type": "execute_result"
    }
   ],
   "source": [
    "df.head()"
   ]
  },
  {
   "cell_type": "code",
   "execution_count": 37,
   "id": "6a9da7d8",
   "metadata": {},
   "outputs": [
    {
     "data": {
      "text/html": [
       "<div>\n",
       "<style scoped>\n",
       "    .dataframe tbody tr th:only-of-type {\n",
       "        vertical-align: middle;\n",
       "    }\n",
       "\n",
       "    .dataframe tbody tr th {\n",
       "        vertical-align: top;\n",
       "    }\n",
       "\n",
       "    .dataframe thead th {\n",
       "        text-align: right;\n",
       "    }\n",
       "</style>\n",
       "<table border=\"1\" class=\"dataframe\">\n",
       "  <thead>\n",
       "    <tr style=\"text-align: right;\">\n",
       "      <th></th>\n",
       "      <th>User ID</th>\n",
       "      <th>Age</th>\n",
       "      <th>EstimatedSalary</th>\n",
       "      <th>Purchased</th>\n",
       "      <th>Male</th>\n",
       "    </tr>\n",
       "  </thead>\n",
       "  <tbody>\n",
       "    <tr>\n",
       "      <th>User ID</th>\n",
       "      <td>100.000000</td>\n",
       "      <td>-0.072110</td>\n",
       "      <td>7.109732</td>\n",
       "      <td>0.712018</td>\n",
       "      <td>-2.524943</td>\n",
       "    </tr>\n",
       "    <tr>\n",
       "      <th>Age</th>\n",
       "      <td>-0.072110</td>\n",
       "      <td>100.000000</td>\n",
       "      <td>15.523802</td>\n",
       "      <td>62.245420</td>\n",
       "      <td>-7.374133</td>\n",
       "    </tr>\n",
       "    <tr>\n",
       "      <th>EstimatedSalary</th>\n",
       "      <td>7.109732</td>\n",
       "      <td>15.523802</td>\n",
       "      <td>100.000000</td>\n",
       "      <td>36.208303</td>\n",
       "      <td>-6.043469</td>\n",
       "    </tr>\n",
       "    <tr>\n",
       "      <th>Purchased</th>\n",
       "      <td>0.712018</td>\n",
       "      <td>62.245420</td>\n",
       "      <td>36.208303</td>\n",
       "      <td>100.000000</td>\n",
       "      <td>-4.246946</td>\n",
       "    </tr>\n",
       "    <tr>\n",
       "      <th>Male</th>\n",
       "      <td>-2.524943</td>\n",
       "      <td>-7.374133</td>\n",
       "      <td>-6.043469</td>\n",
       "      <td>-4.246946</td>\n",
       "      <td>100.000000</td>\n",
       "    </tr>\n",
       "  </tbody>\n",
       "</table>\n",
       "</div>"
      ],
      "text/plain": [
       "                    User ID         Age  EstimatedSalary   Purchased  \\\n",
       "User ID          100.000000   -0.072110         7.109732    0.712018   \n",
       "Age               -0.072110  100.000000        15.523802   62.245420   \n",
       "EstimatedSalary    7.109732   15.523802       100.000000   36.208303   \n",
       "Purchased          0.712018   62.245420        36.208303  100.000000   \n",
       "Male              -2.524943   -7.374133        -6.043469   -4.246946   \n",
       "\n",
       "                       Male  \n",
       "User ID           -2.524943  \n",
       "Age               -7.374133  \n",
       "EstimatedSalary   -6.043469  \n",
       "Purchased         -4.246946  \n",
       "Male             100.000000  "
      ]
     },
     "execution_count": 37,
     "metadata": {},
     "output_type": "execute_result"
    }
   ],
   "source": [
    "df.corr()*100"
   ]
  },
  {
   "cell_type": "code",
   "execution_count": 51,
   "id": "6722eb07",
   "metadata": {},
   "outputs": [
    {
     "data": {
      "text/plain": [
       "(400, 3)"
      ]
     },
     "execution_count": 51,
     "metadata": {},
     "output_type": "execute_result"
    }
   ],
   "source": [
    "X = df.drop(columns = [\"User ID\", \"Purchased\"]).values\n",
    "Y = df[\"Purchased\"].values\n",
    "X.shape"
   ]
  },
  {
   "cell_type": "code",
   "execution_count": 41,
   "id": "a58ebda6",
   "metadata": {},
   "outputs": [],
   "source": [
    "# scale down the data"
   ]
  },
  {
   "cell_type": "code",
   "execution_count": 42,
   "id": "713ab19b",
   "metadata": {},
   "outputs": [],
   "source": [
    "minmax = MinMaxScaler()\n",
    "X = minmax.fit_transform(X)"
   ]
  },
  {
   "cell_type": "code",
   "execution_count": 43,
   "id": "dab93143",
   "metadata": {},
   "outputs": [],
   "source": [
    "# split the data with the help of train_test_split"
   ]
  },
  {
   "cell_type": "code",
   "execution_count": 44,
   "id": "dea50a19",
   "metadata": {},
   "outputs": [],
   "source": [
    "X_train, X_test, y_train, y_test = train_test_split(X, Y, test_size= 0.3)"
   ]
  },
  {
   "cell_type": "code",
   "execution_count": 45,
   "id": "c2b7f7ae",
   "metadata": {},
   "outputs": [],
   "source": [
    "# create ANN for classification task"
   ]
  },
  {
   "cell_type": "code",
   "execution_count": 56,
   "id": "26150108",
   "metadata": {},
   "outputs": [],
   "source": [
    "model = Sequential()\n",
    "model.add(Dense(input_dim = 3, units = 6, activation = \"relu\"))\n",
    "model.add(Dense(units = 6, activation = \"relu\"))\n",
    "model.add(Dense(units = 6, activation = \"relu\"))\n",
    "model.add(Dense(units = 1, activation = \"sigmoid\"))\n",
    "model.compile(optimizer= \"adam\", loss= \"binary_crossentropy\", metrics= [\"accuracy\"])"
   ]
  },
  {
   "cell_type": "code",
   "execution_count": 57,
   "id": "e174ac10",
   "metadata": {},
   "outputs": [
    {
     "name": "stdout",
     "output_type": "stream",
     "text": [
      "Epoch 1/100\n",
      "7/7 [==============================] - 0s 28ms/step - loss: 0.6829 - accuracy: 0.4082 - val_loss: 0.7023 - val_accuracy: 0.3690\n",
      "Epoch 2/100\n",
      "7/7 [==============================] - 0s 11ms/step - loss: 0.6773 - accuracy: 0.4898 - val_loss: 0.6913 - val_accuracy: 0.4881\n",
      "Epoch 3/100\n",
      "7/7 [==============================] - 0s 12ms/step - loss: 0.6723 - accuracy: 0.5255 - val_loss: 0.6852 - val_accuracy: 0.5952\n",
      "Epoch 4/100\n",
      "7/7 [==============================] - 0s 13ms/step - loss: 0.6690 - accuracy: 0.5918 - val_loss: 0.6807 - val_accuracy: 0.6071\n",
      "Epoch 5/100\n",
      "7/7 [==============================] - 0s 12ms/step - loss: 0.6662 - accuracy: 0.6429 - val_loss: 0.6744 - val_accuracy: 0.6429\n",
      "Epoch 6/100\n",
      "7/7 [==============================] - 0s 14ms/step - loss: 0.6627 - accuracy: 0.6429 - val_loss: 0.6686 - val_accuracy: 0.6786\n",
      "Epoch 7/100\n",
      "7/7 [==============================] - 0s 13ms/step - loss: 0.6597 - accuracy: 0.6633 - val_loss: 0.6647 - val_accuracy: 0.7262\n",
      "Epoch 8/100\n",
      "7/7 [==============================] - 0s 12ms/step - loss: 0.6572 - accuracy: 0.6786 - val_loss: 0.6598 - val_accuracy: 0.7738\n",
      "Epoch 9/100\n",
      "7/7 [==============================] - 0s 12ms/step - loss: 0.6547 - accuracy: 0.7041 - val_loss: 0.6568 - val_accuracy: 0.7738\n",
      "Epoch 10/100\n",
      "7/7 [==============================] - 0s 12ms/step - loss: 0.6526 - accuracy: 0.7092 - val_loss: 0.6549 - val_accuracy: 0.7738\n",
      "Epoch 11/100\n",
      "7/7 [==============================] - 0s 11ms/step - loss: 0.6506 - accuracy: 0.7143 - val_loss: 0.6530 - val_accuracy: 0.7738\n",
      "Epoch 12/100\n",
      "7/7 [==============================] - 0s 11ms/step - loss: 0.6485 - accuracy: 0.7194 - val_loss: 0.6510 - val_accuracy: 0.7738\n",
      "Epoch 13/100\n",
      "7/7 [==============================] - 0s 11ms/step - loss: 0.6462 - accuracy: 0.7194 - val_loss: 0.6499 - val_accuracy: 0.7738\n",
      "Epoch 14/100\n",
      "7/7 [==============================] - 0s 11ms/step - loss: 0.6446 - accuracy: 0.7092 - val_loss: 0.6492 - val_accuracy: 0.7500\n",
      "Epoch 15/100\n",
      "7/7 [==============================] - 0s 13ms/step - loss: 0.6423 - accuracy: 0.7041 - val_loss: 0.6471 - val_accuracy: 0.7500\n",
      "Epoch 16/100\n",
      "7/7 [==============================] - 0s 9ms/step - loss: 0.6401 - accuracy: 0.7041 - val_loss: 0.6444 - val_accuracy: 0.7619\n",
      "Epoch 17/100\n",
      "7/7 [==============================] - 0s 7ms/step - loss: 0.6379 - accuracy: 0.7194 - val_loss: 0.6412 - val_accuracy: 0.7738\n",
      "Epoch 18/100\n",
      "7/7 [==============================] - 0s 7ms/step - loss: 0.6357 - accuracy: 0.7143 - val_loss: 0.6405 - val_accuracy: 0.7738\n",
      "Epoch 19/100\n",
      "7/7 [==============================] - 0s 7ms/step - loss: 0.6336 - accuracy: 0.7143 - val_loss: 0.6383 - val_accuracy: 0.7738\n",
      "Epoch 20/100\n",
      "7/7 [==============================] - 0s 7ms/step - loss: 0.6314 - accuracy: 0.7143 - val_loss: 0.6369 - val_accuracy: 0.7738\n",
      "Epoch 21/100\n",
      "7/7 [==============================] - 0s 6ms/step - loss: 0.6291 - accuracy: 0.7143 - val_loss: 0.6373 - val_accuracy: 0.7381\n",
      "Epoch 22/100\n",
      "7/7 [==============================] - 0s 6ms/step - loss: 0.6272 - accuracy: 0.7092 - val_loss: 0.6355 - val_accuracy: 0.7381\n",
      "Epoch 23/100\n",
      "7/7 [==============================] - 0s 8ms/step - loss: 0.6247 - accuracy: 0.7398 - val_loss: 0.6310 - val_accuracy: 0.7381\n",
      "Epoch 24/100\n",
      "7/7 [==============================] - 0s 7ms/step - loss: 0.6222 - accuracy: 0.7398 - val_loss: 0.6289 - val_accuracy: 0.7381\n",
      "Epoch 25/100\n",
      "7/7 [==============================] - 0s 7ms/step - loss: 0.6192 - accuracy: 0.7500 - val_loss: 0.6244 - val_accuracy: 0.7857\n",
      "Epoch 26/100\n",
      "7/7 [==============================] - 0s 7ms/step - loss: 0.6168 - accuracy: 0.7551 - val_loss: 0.6193 - val_accuracy: 0.7857\n",
      "Epoch 27/100\n",
      "7/7 [==============================] - 0s 7ms/step - loss: 0.6143 - accuracy: 0.7653 - val_loss: 0.6168 - val_accuracy: 0.7976\n",
      "Epoch 28/100\n",
      "7/7 [==============================] - ETA: 0s - loss: 0.5968 - accuracy: 0.84 - 0s 7ms/step - loss: 0.6116 - accuracy: 0.7653 - val_loss: 0.6129 - val_accuracy: 0.7857\n",
      "Epoch 29/100\n",
      "7/7 [==============================] - 0s 7ms/step - loss: 0.6089 - accuracy: 0.7806 - val_loss: 0.6096 - val_accuracy: 0.7857\n",
      "Epoch 30/100\n",
      "7/7 [==============================] - 0s 8ms/step - loss: 0.6061 - accuracy: 0.7806 - val_loss: 0.6049 - val_accuracy: 0.7857\n",
      "Epoch 31/100\n",
      "7/7 [==============================] - 0s 7ms/step - loss: 0.6034 - accuracy: 0.7857 - val_loss: 0.6005 - val_accuracy: 0.7857\n",
      "Epoch 32/100\n",
      "7/7 [==============================] - 0s 7ms/step - loss: 0.6005 - accuracy: 0.7806 - val_loss: 0.5969 - val_accuracy: 0.7857\n",
      "Epoch 33/100\n",
      "7/7 [==============================] - 0s 7ms/step - loss: 0.5981 - accuracy: 0.7806 - val_loss: 0.5970 - val_accuracy: 0.7857\n",
      "Epoch 34/100\n",
      "7/7 [==============================] - 0s 7ms/step - loss: 0.5947 - accuracy: 0.7857 - val_loss: 0.5952 - val_accuracy: 0.7857\n",
      "Epoch 35/100\n",
      "7/7 [==============================] - ETA: 0s - loss: 0.5768 - accuracy: 0.75 - 0s 7ms/step - loss: 0.5917 - accuracy: 0.7857 - val_loss: 0.5958 - val_accuracy: 0.7976\n",
      "Epoch 36/100\n",
      "7/7 [==============================] - 0s 7ms/step - loss: 0.5883 - accuracy: 0.7653 - val_loss: 0.5950 - val_accuracy: 0.7976\n",
      "Epoch 37/100\n",
      "7/7 [==============================] - 0s 8ms/step - loss: 0.5853 - accuracy: 0.7653 - val_loss: 0.5930 - val_accuracy: 0.7976\n",
      "Epoch 38/100\n",
      "7/7 [==============================] - 0s 7ms/step - loss: 0.5820 - accuracy: 0.7806 - val_loss: 0.5899 - val_accuracy: 0.7976\n",
      "Epoch 39/100\n",
      "7/7 [==============================] - 0s 7ms/step - loss: 0.5786 - accuracy: 0.7908 - val_loss: 0.5848 - val_accuracy: 0.8095\n",
      "Epoch 40/100\n",
      "7/7 [==============================] - 0s 7ms/step - loss: 0.5755 - accuracy: 0.7908 - val_loss: 0.5775 - val_accuracy: 0.7857\n",
      "Epoch 41/100\n",
      "7/7 [==============================] - 0s 7ms/step - loss: 0.5718 - accuracy: 0.8010 - val_loss: 0.5737 - val_accuracy: 0.7857\n",
      "Epoch 42/100\n",
      "7/7 [==============================] - 0s 6ms/step - loss: 0.5682 - accuracy: 0.8010 - val_loss: 0.5701 - val_accuracy: 0.7976\n",
      "Epoch 43/100\n",
      "7/7 [==============================] - 0s 7ms/step - loss: 0.5649 - accuracy: 0.8112 - val_loss: 0.5675 - val_accuracy: 0.7976\n",
      "Epoch 44/100\n",
      "7/7 [==============================] - 0s 7ms/step - loss: 0.5615 - accuracy: 0.8112 - val_loss: 0.5628 - val_accuracy: 0.8095\n",
      "Epoch 45/100\n",
      "7/7 [==============================] - 0s 7ms/step - loss: 0.5576 - accuracy: 0.8112 - val_loss: 0.5596 - val_accuracy: 0.8095\n",
      "Epoch 46/100\n",
      "7/7 [==============================] - 0s 7ms/step - loss: 0.5538 - accuracy: 0.8112 - val_loss: 0.5529 - val_accuracy: 0.8095\n",
      "Epoch 47/100\n",
      "7/7 [==============================] - 0s 6ms/step - loss: 0.5498 - accuracy: 0.8112 - val_loss: 0.5486 - val_accuracy: 0.8095\n",
      "Epoch 48/100\n",
      "7/7 [==============================] - 0s 6ms/step - loss: 0.5456 - accuracy: 0.8163 - val_loss: 0.5488 - val_accuracy: 0.8095\n",
      "Epoch 49/100\n",
      "7/7 [==============================] - 0s 6ms/step - loss: 0.5413 - accuracy: 0.8316 - val_loss: 0.5500 - val_accuracy: 0.8333\n",
      "Epoch 50/100\n",
      "7/7 [==============================] - 0s 6ms/step - loss: 0.5374 - accuracy: 0.8418 - val_loss: 0.5486 - val_accuracy: 0.8452\n",
      "Epoch 51/100\n",
      "7/7 [==============================] - 0s 7ms/step - loss: 0.5327 - accuracy: 0.8418 - val_loss: 0.5438 - val_accuracy: 0.8452\n",
      "Epoch 52/100\n",
      "7/7 [==============================] - 0s 7ms/step - loss: 0.5278 - accuracy: 0.8469 - val_loss: 0.5371 - val_accuracy: 0.8452\n",
      "Epoch 53/100\n",
      "7/7 [==============================] - 0s 6ms/step - loss: 0.5237 - accuracy: 0.8316 - val_loss: 0.5301 - val_accuracy: 0.8452\n",
      "Epoch 54/100\n",
      "7/7 [==============================] - 0s 6ms/step - loss: 0.5190 - accuracy: 0.8418 - val_loss: 0.5308 - val_accuracy: 0.8452\n",
      "Epoch 55/100\n",
      "7/7 [==============================] - 0s 6ms/step - loss: 0.5141 - accuracy: 0.8469 - val_loss: 0.5273 - val_accuracy: 0.8452\n",
      "Epoch 56/100\n",
      "7/7 [==============================] - 0s 5ms/step - loss: 0.5097 - accuracy: 0.8418 - val_loss: 0.5232 - val_accuracy: 0.8452\n",
      "Epoch 57/100\n",
      "7/7 [==============================] - 0s 6ms/step - loss: 0.5053 - accuracy: 0.8418 - val_loss: 0.5229 - val_accuracy: 0.8571\n",
      "Epoch 58/100\n",
      "7/7 [==============================] - 0s 6ms/step - loss: 0.5003 - accuracy: 0.8367 - val_loss: 0.5183 - val_accuracy: 0.8571\n"
     ]
    },
    {
     "name": "stdout",
     "output_type": "stream",
     "text": [
      "Epoch 59/100\n",
      "7/7 [==============================] - 0s 5ms/step - loss: 0.4948 - accuracy: 0.8520 - val_loss: 0.5121 - val_accuracy: 0.8571\n",
      "Epoch 60/100\n",
      "7/7 [==============================] - 0s 5ms/step - loss: 0.4898 - accuracy: 0.8520 - val_loss: 0.5063 - val_accuracy: 0.8571\n",
      "Epoch 61/100\n",
      "7/7 [==============================] - 0s 5ms/step - loss: 0.4850 - accuracy: 0.8418 - val_loss: 0.4993 - val_accuracy: 0.8571\n",
      "Epoch 62/100\n",
      "7/7 [==============================] - 0s 5ms/step - loss: 0.4799 - accuracy: 0.8520 - val_loss: 0.4952 - val_accuracy: 0.8571\n",
      "Epoch 63/100\n",
      "7/7 [==============================] - 0s 5ms/step - loss: 0.4749 - accuracy: 0.8520 - val_loss: 0.4874 - val_accuracy: 0.8571\n",
      "Epoch 64/100\n",
      "7/7 [==============================] - 0s 6ms/step - loss: 0.4696 - accuracy: 0.8520 - val_loss: 0.4772 - val_accuracy: 0.8571\n",
      "Epoch 65/100\n",
      "7/7 [==============================] - 0s 5ms/step - loss: 0.4668 - accuracy: 0.8469 - val_loss: 0.4712 - val_accuracy: 0.8571\n",
      "Epoch 66/100\n",
      "7/7 [==============================] - 0s 5ms/step - loss: 0.4619 - accuracy: 0.8520 - val_loss: 0.4659 - val_accuracy: 0.8571\n",
      "Epoch 67/100\n",
      "7/7 [==============================] - 0s 6ms/step - loss: 0.4563 - accuracy: 0.8520 - val_loss: 0.4630 - val_accuracy: 0.8571\n",
      "Epoch 68/100\n",
      "7/7 [==============================] - 0s 6ms/step - loss: 0.4505 - accuracy: 0.8673 - val_loss: 0.4604 - val_accuracy: 0.8690\n",
      "Epoch 69/100\n",
      "7/7 [==============================] - 0s 6ms/step - loss: 0.4459 - accuracy: 0.8673 - val_loss: 0.4584 - val_accuracy: 0.8690\n",
      "Epoch 70/100\n",
      "7/7 [==============================] - 0s 6ms/step - loss: 0.4411 - accuracy: 0.8571 - val_loss: 0.4615 - val_accuracy: 0.8571\n",
      "Epoch 71/100\n",
      "7/7 [==============================] - 0s 6ms/step - loss: 0.4363 - accuracy: 0.8673 - val_loss: 0.4547 - val_accuracy: 0.8690\n",
      "Epoch 72/100\n",
      "7/7 [==============================] - 0s 6ms/step - loss: 0.4304 - accuracy: 0.8622 - val_loss: 0.4394 - val_accuracy: 0.8810\n",
      "Epoch 73/100\n",
      "7/7 [==============================] - 0s 6ms/step - loss: 0.4261 - accuracy: 0.8571 - val_loss: 0.4329 - val_accuracy: 0.8929\n",
      "Epoch 74/100\n",
      "7/7 [==============================] - 0s 6ms/step - loss: 0.4213 - accuracy: 0.8622 - val_loss: 0.4270 - val_accuracy: 0.8929\n",
      "Epoch 75/100\n",
      "7/7 [==============================] - 0s 6ms/step - loss: 0.4172 - accuracy: 0.8673 - val_loss: 0.4199 - val_accuracy: 0.8929\n",
      "Epoch 76/100\n",
      "7/7 [==============================] - 0s 6ms/step - loss: 0.4115 - accuracy: 0.8724 - val_loss: 0.4277 - val_accuracy: 0.8810\n",
      "Epoch 77/100\n",
      "7/7 [==============================] - 0s 6ms/step - loss: 0.4068 - accuracy: 0.8724 - val_loss: 0.4320 - val_accuracy: 0.8571\n",
      "Epoch 78/100\n",
      "7/7 [==============================] - 0s 6ms/step - loss: 0.4015 - accuracy: 0.8724 - val_loss: 0.4232 - val_accuracy: 0.8810\n",
      "Epoch 79/100\n",
      "7/7 [==============================] - 0s 6ms/step - loss: 0.3967 - accuracy: 0.8724 - val_loss: 0.4154 - val_accuracy: 0.8810\n",
      "Epoch 80/100\n",
      "7/7 [==============================] - 0s 6ms/step - loss: 0.3924 - accuracy: 0.8724 - val_loss: 0.4132 - val_accuracy: 0.8810\n",
      "Epoch 81/100\n",
      "7/7 [==============================] - 0s 6ms/step - loss: 0.3878 - accuracy: 0.8724 - val_loss: 0.4208 - val_accuracy: 0.8571\n",
      "Epoch 82/100\n",
      "7/7 [==============================] - 0s 6ms/step - loss: 0.3860 - accuracy: 0.8827 - val_loss: 0.4273 - val_accuracy: 0.8452\n",
      "Epoch 83/100\n",
      "7/7 [==============================] - 0s 6ms/step - loss: 0.3809 - accuracy: 0.8878 - val_loss: 0.4136 - val_accuracy: 0.8690\n",
      "Epoch 84/100\n",
      "7/7 [==============================] - 0s 6ms/step - loss: 0.3762 - accuracy: 0.8724 - val_loss: 0.3945 - val_accuracy: 0.8929\n",
      "Epoch 85/100\n",
      "7/7 [==============================] - 0s 6ms/step - loss: 0.3711 - accuracy: 0.8878 - val_loss: 0.3963 - val_accuracy: 0.8810\n",
      "Epoch 86/100\n",
      "7/7 [==============================] - 0s 6ms/step - loss: 0.3665 - accuracy: 0.8827 - val_loss: 0.3913 - val_accuracy: 0.8929\n",
      "Epoch 87/100\n",
      "7/7 [==============================] - 0s 6ms/step - loss: 0.3617 - accuracy: 0.8878 - val_loss: 0.3840 - val_accuracy: 0.8929\n",
      "Epoch 88/100\n",
      "7/7 [==============================] - 0s 6ms/step - loss: 0.3579 - accuracy: 0.8929 - val_loss: 0.3824 - val_accuracy: 0.8929\n",
      "Epoch 89/100\n",
      "7/7 [==============================] - 0s 6ms/step - loss: 0.3545 - accuracy: 0.8929 - val_loss: 0.3805 - val_accuracy: 0.8929\n",
      "Epoch 90/100\n",
      "7/7 [==============================] - 0s 6ms/step - loss: 0.3518 - accuracy: 0.9031 - val_loss: 0.3889 - val_accuracy: 0.8810\n",
      "Epoch 91/100\n",
      "7/7 [==============================] - 0s 6ms/step - loss: 0.3493 - accuracy: 0.8980 - val_loss: 0.3766 - val_accuracy: 0.8929\n",
      "Epoch 92/100\n",
      "7/7 [==============================] - 0s 7ms/step - loss: 0.3448 - accuracy: 0.8929 - val_loss: 0.3787 - val_accuracy: 0.8810\n",
      "Epoch 93/100\n",
      "7/7 [==============================] - 0s 6ms/step - loss: 0.3455 - accuracy: 0.8980 - val_loss: 0.3864 - val_accuracy: 0.8810\n",
      "Epoch 94/100\n",
      "7/7 [==============================] - 0s 6ms/step - loss: 0.3400 - accuracy: 0.8980 - val_loss: 0.3703 - val_accuracy: 0.8810\n",
      "Epoch 95/100\n",
      "7/7 [==============================] - 0s 6ms/step - loss: 0.3370 - accuracy: 0.8929 - val_loss: 0.3701 - val_accuracy: 0.8810\n",
      "Epoch 96/100\n",
      "7/7 [==============================] - 0s 6ms/step - loss: 0.3340 - accuracy: 0.8929 - val_loss: 0.3704 - val_accuracy: 0.8810\n",
      "Epoch 97/100\n",
      "7/7 [==============================] - 0s 6ms/step - loss: 0.3315 - accuracy: 0.8929 - val_loss: 0.3687 - val_accuracy: 0.8810\n",
      "Epoch 98/100\n",
      "7/7 [==============================] - 0s 6ms/step - loss: 0.3281 - accuracy: 0.9031 - val_loss: 0.3732 - val_accuracy: 0.8810\n",
      "Epoch 99/100\n",
      "7/7 [==============================] - 0s 6ms/step - loss: 0.3262 - accuracy: 0.9031 - val_loss: 0.3813 - val_accuracy: 0.8690\n",
      "Epoch 100/100\n",
      "7/7 [==============================] - 0s 6ms/step - loss: 0.3267 - accuracy: 0.9031 - val_loss: 0.3798 - val_accuracy: 0.8571\n"
     ]
    },
    {
     "data": {
      "text/plain": [
       "<tensorflow.python.keras.callbacks.History at 0x18ded5f0348>"
      ]
     },
     "execution_count": 57,
     "metadata": {},
     "output_type": "execute_result"
    }
   ],
   "source": [
    "model.fit(X_train, y_train, validation_split= 0.3, epochs= 100)"
   ]
  },
  {
   "cell_type": "code",
   "execution_count": 61,
   "id": "15050d66",
   "metadata": {},
   "outputs": [],
   "source": [
    "y_pred = model.predict(X_test)\n",
    "y_pred = y_pred > 0.5"
   ]
  },
  {
   "cell_type": "code",
   "execution_count": 62,
   "id": "15754476",
   "metadata": {},
   "outputs": [
    {
     "data": {
      "text/plain": [
       "0.9"
      ]
     },
     "execution_count": 62,
     "metadata": {},
     "output_type": "execute_result"
    }
   ],
   "source": [
    "accuracy_score(y_pred, y_test)"
   ]
  },
  {
   "cell_type": "code",
   "execution_count": null,
   "id": "26592c47",
   "metadata": {},
   "outputs": [],
   "source": []
  }
 ],
 "metadata": {
  "kernelspec": {
   "display_name": "Python 3",
   "language": "python",
   "name": "python3"
  },
  "language_info": {
   "codemirror_mode": {
    "name": "ipython",
    "version": 3
   },
   "file_extension": ".py",
   "mimetype": "text/x-python",
   "name": "python",
   "nbconvert_exporter": "python",
   "pygments_lexer": "ipython3",
   "version": "3.7.10"
  }
 },
 "nbformat": 4,
 "nbformat_minor": 5
}
